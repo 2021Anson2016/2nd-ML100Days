{
 "cells": [
  {
   "cell_type": "markdown",
   "metadata": {},
   "source": [
    "## 練習時間\n",
    "#### 請寫一個函式用來計算 Mean Square Error\n",
    "$ MSE = \\frac{1}{n}\\sum_{i=1}^{n}{(Y_i - \\hat{Y}_i)^2} $\n",
    "\n",
    "### Hint: [如何取平方](https://googoodesign.gitbooks.io/-ezpython/unit-1.html)"
   ]
  },
  {
   "cell_type": "code",
   "execution_count": 2,
   "metadata": {},
   "outputs": [],
   "source": [
    "import numpy as np\n",
    "import matplotlib.pyplot as plt"
   ]
  },
  {
   "cell_type": "code",
   "execution_count": 35,
   "metadata": {
    "collapsed": true
   },
   "outputs": [
    {
     "data": {
      "text/plain": [
       "(array([-16.91646929,   3.85660555,   1.7058048 ,  12.68066881,\n",
       "          6.81522211,  10.19611485,  15.82520726,  29.35657464,\n",
       "          3.37263423,  55.23380105,  21.89070574,  33.60260914,\n",
       "         34.70106446,  52.91370428,  44.69167289,  53.7330383 ,\n",
       "         47.84588395,  37.47788654,  46.89829681,  60.9231437 ,\n",
       "         47.74977993,  49.66444361,  66.86458986,  82.64549016,\n",
       "         55.70613893, 105.19362829,  97.94403262,  87.70181354,\n",
       "         49.19968174,  92.36297697, 100.51556497,  98.5803343 ,\n",
       "         77.73328875, 103.21892307,  96.67257599,  99.92925463,\n",
       "         83.36334688, 121.04977455, 115.09392564, 116.83957721,\n",
       "        133.64682634, 127.18594171, 118.62031721, 136.56847155,\n",
       "        168.10923497, 117.58613846, 138.42731914, 159.97061186,\n",
       "        158.6088004 , 158.58082157, 151.18961682, 164.08784937,\n",
       "        167.74923968, 133.89019664, 158.33042127, 153.20536226,\n",
       "        190.33886068, 172.76775104, 178.93637541, 194.60029778,\n",
       "        216.48617506, 202.76374949, 178.34146728, 168.4528568 ,\n",
       "        196.73790005, 191.974142  , 211.06847535, 220.38588825,\n",
       "        201.66519531, 176.5445176 , 201.37537873, 236.8290497 ,\n",
       "        204.26997417, 231.05099279, 241.2370508 , 228.60136847,\n",
       "        236.14874024, 219.32946921, 244.07711427, 235.69880952,\n",
       "        229.85696548, 263.48885227, 233.84672433, 255.13122166,\n",
       "        262.43815801, 238.03758223, 254.44651141, 253.61538969,\n",
       "        274.1127246 , 257.35150753, 295.275089  , 260.66907099,\n",
       "        267.5307481 , 289.89587079, 267.02250431, 282.62609842,\n",
       "        260.52324198, 291.8489869 , 285.4204519 , 303.10368896,\n",
       "        300.24395574]),\n",
       " array([  0.5,   3.5,   6.5,   9.5,  12.5,  15.5,  18.5,  21.5,  24.5,\n",
       "         27.5,  30.5,  33.5,  36.5,  39.5,  42.5,  45.5,  48.5,  51.5,\n",
       "         54.5,  57.5,  60.5,  63.5,  66.5,  69.5,  72.5,  75.5,  78.5,\n",
       "         81.5,  84.5,  87.5,  90.5,  93.5,  96.5,  99.5, 102.5, 105.5,\n",
       "        108.5, 111.5, 114.5, 117.5, 120.5, 123.5, 126.5, 129.5, 132.5,\n",
       "        135.5, 138.5, 141.5, 144.5, 147.5, 150.5, 153.5, 156.5, 159.5,\n",
       "        162.5, 165.5, 168.5, 171.5, 174.5, 177.5, 180.5, 183.5, 186.5,\n",
       "        189.5, 192.5, 195.5, 198.5, 201.5, 204.5, 207.5, 210.5, 213.5,\n",
       "        216.5, 219.5, 222.5, 225.5, 228.5, 231.5, 234.5, 237.5, 240.5,\n",
       "        243.5, 246.5, 249.5, 252.5, 255.5, 258.5, 261.5, 264.5, 267.5,\n",
       "        270.5, 273.5, 276.5, 279.5, 282.5, 285.5, 288.5, 291.5, 294.5,\n",
       "        297.5, 300.5]))"
      ]
     },
     "execution_count": 35,
     "metadata": {},
     "output_type": "execute_result"
    }
   ],
   "source": [
    "y,y_hat"
   ]
  },
  {
   "cell_type": "code",
   "execution_count": 36,
   "metadata": {
    "collapsed": true
   },
   "outputs": [
    {
     "data": {
      "text/plain": [
       "array([3.03333403e+02, 1.27167517e-01, 2.29843077e+01, 1.01166541e+01,\n",
       "       3.23166997e+01, 2.81311976e+01, 7.15451618e+00, 6.17257651e+01,\n",
       "       4.46365584e+02, 7.69163721e+02, 7.41199477e+01, 1.05286347e-02,\n",
       "       3.23616907e+00, 1.79927463e+02, 4.80343004e+00, 6.77829196e+01,\n",
       "       4.27867807e-01, 1.96619666e+02, 5.77858915e+01, 1.17179128e+01,\n",
       "       1.62568112e+02, 1.91422621e+02, 1.32925768e-01, 1.72803911e+02,\n",
       "       2.82033770e+02, 8.81711561e+02, 3.78070404e+02, 3.84624912e+01,\n",
       "       1.24611247e+03, 2.36485450e+01, 1.00311542e+02, 2.58097966e+01,\n",
       "       3.52189451e+02, 1.38303888e+01, 3.39588706e+01, 3.10332039e+01,\n",
       "       6.31851330e+02, 9.11981939e+01, 3.52747668e-01, 4.36158268e-01,\n",
       "       1.72839043e+02, 1.35861663e+01, 6.20894009e+01, 4.99632901e+01,\n",
       "       1.26801762e+03, 3.20906435e+02, 5.28250721e-03, 3.41163503e+02,\n",
       "       1.99058249e+02, 1.22784607e+02, 4.75571353e-01, 1.12102554e+02,\n",
       "       1.26545393e+02, 6.55862028e+02, 1.73853868e+01, 1.51158117e+02,\n",
       "       4.76935836e+02, 1.60719271e+00, 1.96814268e+01, 2.92420184e+02,\n",
       "       1.29500480e+03, 3.71092044e+02, 6.65616562e+01, 4.42982237e+02,\n",
       "       1.79597968e+01, 1.24316746e+01, 1.57966573e+02, 3.56676775e+02,\n",
       "       8.03611763e+00, 9.58241891e+02, 8.32587134e+01, 5.44244560e+02,\n",
       "       1.49573532e+02, 1.33425434e+02, 3.51077073e+02, 9.61848637e+00,\n",
       "       5.85032272e+01, 1.48121820e+02, 9.17211177e+01, 3.24428714e+00,\n",
       "       1.13274184e+02, 3.99554215e+02, 1.60105385e+02, 3.17106574e+01,\n",
       "       9.87669846e+01, 3.04936034e+02, 1.64307697e+01, 6.21670797e+01,\n",
       "       9.24044743e+01, 1.02991899e+02, 6.13805035e+02, 1.64632739e+02,\n",
       "       8.04474797e+01, 1.08074130e+02, 2.39552873e+02, 8.25931030e+00,\n",
       "       7.82698990e+02, 1.21791853e-01, 8.24381937e+01, 3.14013300e+01,\n",
       "       6.55586654e-02])"
      ]
     },
     "execution_count": 36,
     "metadata": {},
     "output_type": "execute_result"
    }
   ],
   "source": [
    "pow(3,2)\n",
    "len(y),len(y_hat)\n",
    "pow(y-y_hat,2)"
   ]
  },
  {
   "cell_type": "code",
   "execution_count": 29,
   "metadata": {},
   "outputs": [],
   "source": [
    "import math\n",
    "\n",
    "def mean_squared_error(y,yp):\n",
    "    \"\"\"\n",
    "    計算 MSE\n",
    "    Args:\n",
    "        - y: 實際值\n",
    "        - yp: 預測值\n",
    "    Return:\n",
    "        - mae: MSE    \n",
    "    \"\"\"\n",
    "    mse =  MSE = sum(pow(abs(y-yp),2)/len(y))\n",
    "    #mse2 =  MSE2 = sum(pow(y-yp,2)/len(y))\n",
    "    # MSE == MSE2\n",
    "    return mse\n",
    "\n",
    "MSE = mean_squared_error(y, y_hat)\n"
   ]
  },
  {
   "cell_type": "code",
   "execution_count": 24,
   "metadata": {},
   "outputs": [
    {
     "name": "stdout",
     "output_type": "stream",
     "text": [
      "The Mean absolute error is 11.140\n"
     ]
    }
   ],
   "source": [
    "def mean_absolute_error(y, yp):\n",
    "    \"\"\"\n",
    "    計算 MAE\n",
    "    Args:\n",
    "        - y: 實際值\n",
    "        - yp: 預測值\n",
    "    Return:\n",
    "        - mae: MAE\n",
    "    \"\"\"\n",
    "    mae = MAE = sum(abs(y - yp)) / len(y)\n",
    "    return mae\n",
    "\n",
    "MAE = mean_absolute_error(y, y_hat)\n",
    "print(\"The Mean absolute error is %.3f\" % (MAE))"
   ]
  },
  {
   "cell_type": "code",
   "execution_count": 3,
   "metadata": {},
   "outputs": [
    {
     "data": {
      "image/png": "[encoded data removed]",
      "text/plain": [
       "<matplotlib.figure.Figure at 0x2226a360ef0>"
      ]
     },
     "metadata": {},
     "output_type": "display_data"
    }
   ],
   "source": [
    "w = 3\n",
    "b = 0.5\n",
    "\n",
    "x_lin = np.linspace(0, 100, 101)\n",
    "\n",
    "y = (x_lin + np.random.randn(101) * 5) * w + b\n",
    "\n",
    "plt.plot(x_lin, y, 'b.', label = 'data points')\n",
    "plt.title(\"Assume we have data points\")\n",
    "plt.legend(loc = 2)\n",
    "plt.show()"
   ]
  },
  {
   "cell_type": "code",
   "execution_count": 4,
   "metadata": {},
   "outputs": [
    {
     "data": {
      "image/png": "[encoded data removed]",
      "text/plain": [
       "<matplotlib.figure.Figure at 0x2226a360dd8>"
      ]
     },
     "metadata": {},
     "output_type": "display_data"
    }
   ],
   "source": [
    "y_hat = x_lin * w + b\n",
    "plt.plot(x_lin, y, 'b.', label = 'data')\n",
    "plt.plot(x_lin, y_hat, 'r-', label = 'prediction')\n",
    "plt.title(\"Assume we have data points (And the prediction)\")\n",
    "plt.legend(loc = 2)\n",
    "plt.show()"
   ]
  },
  {
   "cell_type": "code",
   "execution_count": 34,
   "metadata": {},
   "outputs": [
    {
     "name": "stdout",
     "output_type": "stream",
     "text": [
      "The Mean squared error is 198.950\n",
      "The Mean absolute error is 11.140\n"
     ]
    }
   ],
   "source": [
    "# 執行 Function, 確認有沒有正常執行\n",
    "MSE = mean_squared_error(y, y_hat)\n",
    "MAE = mean_absolute_error(y, y_hat)\n",
    "print(\"The Mean squared error is %.3f\" % (MSE))\n",
    "print(\"The Mean absolute error is %.3f\" % (MAE))"
   ]
  }
 ],
 "metadata": {
  "anaconda-cloud": {},
  "kernelspec": {
   "display_name": "Python 3",
   "language": "python",
   "name": "python3"
  },
  "language_info": {
   "codemirror_mode": {
    "name": "ipython",
    "version": 3
   },
   "file_extension": ".py",
   "mimetype": "text/x-python",
   "name": "python",
   "nbconvert_exporter": "python",
   "pygments_lexer": "ipython3",
   "version": "3.5.2"
  }
 },
 "nbformat": 4,
 "nbformat_minor": 1
}
